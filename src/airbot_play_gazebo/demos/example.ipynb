{
 "cells": [
  {
   "cell_type": "code",
   "execution_count": null,
   "metadata": {},
   "outputs": [],
   "source": [
    "import rospy\n",
    "from airbot_play_control.control import RoboticArmAgent,AirbotPlayConfig\n",
    "# ROS节点初始化\n",
    "NODE_NAME = 'airbot_play_gazebo'\n",
    "rospy.init_node(NODE_NAME)"
   ]
  },
  {
   "cell_type": "code",
   "execution_count": null,
   "metadata": {},
   "outputs": [],
   "source": [
    "# 初始化机械臂本体\n",
    "arm = RoboticArmAgent(control_mode=AirbotPlayConfig.normal,node_name=NODE_NAME,other_config = (\"\",\"airbot_play_arm\"))"
   ]
  },
  {
   "cell_type": "code",
   "execution_count": null,
   "metadata": {},
   "outputs": [],
   "source": [
    "# 机械臂本体控制（详见：example_control.ipynb）\n",
    "arm.go_to_named_or_joint_target('Standby')"
   ]
  },
  {
   "cell_type": "code",
   "execution_count": null,
   "metadata": {},
   "outputs": [],
   "source": [
    "# 初始化夹爪(夹爪只能使用关节空间控制，因为是闭链结构，无法使用逆解)\n",
    "gripper = RoboticArmAgent(control_mode=AirbotPlayConfig.normal,node_name=NODE_NAME,other_config = (\"\",\"airbot_play_gripper\"))"
   ]
  },
  {
   "cell_type": "code",
   "execution_count": null,
   "metadata": {},
   "outputs": [],
   "source": [
    "# 夹爪闭合\n",
    "SCALE_CLOSE = 0.8\n",
    "CLOSE = (-SCALE_CLOSE,SCALE_CLOSE,SCALE_CLOSE,-SCALE_CLOSE)\n",
    "gripper.go_to_named_or_joint_target(CLOSE)"
   ]
  },
  {
   "cell_type": "code",
   "execution_count": null,
   "metadata": {},
   "outputs": [],
   "source": [
    "# 夹爪张开\n",
    "SCALE_OPEN = 0\n",
    "OPEN = (SCALE_OPEN,SCALE_OPEN,SCALE_OPEN,SCALE_OPEN)\n",
    "gripper.go_to_named_or_joint_target(OPEN)"
   ]
  }
 ],
 "metadata": {
  "kernelspec": {
   "display_name": "Python 3",
   "language": "python",
   "name": "python3"
  },
  "language_info": {
   "codemirror_mode": {
    "name": "ipython",
    "version": 3
   },
   "file_extension": ".py",
   "mimetype": "text/x-python",
   "name": "python",
   "nbconvert_exporter": "python",
   "pygments_lexer": "ipython3",
   "version": "3.8.10"
  },
  "orig_nbformat": 4
 },
 "nbformat": 4,
 "nbformat_minor": 2
}
